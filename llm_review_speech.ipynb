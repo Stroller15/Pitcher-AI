{
  "nbformat": 4,
  "nbformat_minor": 0,
  "metadata": {
    "colab": {
      "provenance": [],
      "authorship_tag": "ABX9TyO3jlsXnI5gJ4w6g6in0vft",
      "include_colab_link": true
    },
    "kernelspec": {
      "name": "python3",
      "display_name": "Python 3"
    },
    "language_info": {
      "name": "python"
    }
  },
  "cells": [
    {
      "cell_type": "markdown",
      "metadata": {
        "id": "view-in-github",
        "colab_type": "text"
      },
      "source": [
        "<a href=\"https://colab.research.google.com/github/Tharanbala/product-reviewer/blob/shoby_llm_aync_product_pitch/llm_review_speech.ipynb\" target=\"_parent\"><img src=\"https://colab.research.google.com/assets/colab-badge.svg\" alt=\"Open In Colab\"/></a>"
      ]
    },
    {
      "cell_type": "code",
      "source": [
        "!pip install python-dotenv"
      ],
      "metadata": {
        "colab": {
          "base_uri": "https://localhost:8080/"
        },
        "id": "cMSU6W8ZoONA",
        "outputId": "04a194a9-3aca-4b3a-b75a-3bdd378d8595"
      },
      "execution_count": 5,
      "outputs": [
        {
          "output_type": "stream",
          "name": "stdout",
          "text": [
            "Collecting python-dotenv\n",
            "  Downloading python_dotenv-1.0.1-py3-none-any.whl.metadata (23 kB)\n",
            "Downloading python_dotenv-1.0.1-py3-none-any.whl (19 kB)\n",
            "Installing collected packages: python-dotenv\n",
            "Successfully installed python-dotenv-1.0.1\n"
          ]
        }
      ]
    },
    {
      "cell_type": "code",
      "source": [
        "import os\n",
        "from dotenv import load_dotenv, find_dotenv\n",
        "\n",
        "load_dotenv()"
      ],
      "metadata": {
        "colab": {
          "base_uri": "https://localhost:8080/"
        },
        "id": "ZcQ_VY0YoSSH",
        "outputId": "d0d91ffc-9b47-4b47-c000-177b4ae2d312"
      },
      "execution_count": 6,
      "outputs": [
        {
          "output_type": "execute_result",
          "data": {
            "text/plain": [
              "True"
            ]
          },
          "metadata": {},
          "execution_count": 6
        }
      ]
    },
    {
      "cell_type": "code",
      "source": [
        "!pip install groq"
      ],
      "metadata": {
        "colab": {
          "base_uri": "https://localhost:8080/"
        },
        "id": "FjnOnF1docv1",
        "outputId": "5e989b91-a141-43b2-819f-7975bce7700b"
      },
      "execution_count": 7,
      "outputs": [
        {
          "output_type": "stream",
          "name": "stdout",
          "text": [
            "Collecting groq\n",
            "  Downloading groq-0.9.0-py3-none-any.whl.metadata (13 kB)\n",
            "Requirement already satisfied: anyio<5,>=3.5.0 in /usr/local/lib/python3.10/dist-packages (from groq) (3.7.1)\n",
            "Requirement already satisfied: distro<2,>=1.7.0 in /usr/lib/python3/dist-packages (from groq) (1.7.0)\n",
            "Collecting httpx<1,>=0.23.0 (from groq)\n",
            "  Downloading httpx-0.27.0-py3-none-any.whl.metadata (7.2 kB)\n",
            "Requirement already satisfied: pydantic<3,>=1.9.0 in /usr/local/lib/python3.10/dist-packages (from groq) (2.8.2)\n",
            "Requirement already satisfied: sniffio in /usr/local/lib/python3.10/dist-packages (from groq) (1.3.1)\n",
            "Requirement already satisfied: typing-extensions<5,>=4.7 in /usr/local/lib/python3.10/dist-packages (from groq) (4.12.2)\n",
            "Requirement already satisfied: idna>=2.8 in /usr/local/lib/python3.10/dist-packages (from anyio<5,>=3.5.0->groq) (3.7)\n",
            "Requirement already satisfied: exceptiongroup in /usr/local/lib/python3.10/dist-packages (from anyio<5,>=3.5.0->groq) (1.2.2)\n",
            "Requirement already satisfied: certifi in /usr/local/lib/python3.10/dist-packages (from httpx<1,>=0.23.0->groq) (2024.7.4)\n",
            "Collecting httpcore==1.* (from httpx<1,>=0.23.0->groq)\n",
            "  Downloading httpcore-1.0.5-py3-none-any.whl.metadata (20 kB)\n",
            "Collecting h11<0.15,>=0.13 (from httpcore==1.*->httpx<1,>=0.23.0->groq)\n",
            "  Downloading h11-0.14.0-py3-none-any.whl.metadata (8.2 kB)\n",
            "Requirement already satisfied: annotated-types>=0.4.0 in /usr/local/lib/python3.10/dist-packages (from pydantic<3,>=1.9.0->groq) (0.7.0)\n",
            "Requirement already satisfied: pydantic-core==2.20.1 in /usr/local/lib/python3.10/dist-packages (from pydantic<3,>=1.9.0->groq) (2.20.1)\n",
            "Downloading groq-0.9.0-py3-none-any.whl (103 kB)\n",
            "\u001b[2K   \u001b[90m━━━━━━━━━━━━━━━━━━━━━━━━━━━━━━━━━━━━━━━━\u001b[0m \u001b[32m103.5/103.5 kB\u001b[0m \u001b[31m4.3 MB/s\u001b[0m eta \u001b[36m0:00:00\u001b[0m\n",
            "\u001b[?25hDownloading httpx-0.27.0-py3-none-any.whl (75 kB)\n",
            "\u001b[2K   \u001b[90m━━━━━━━━━━━━━━━━━━━━━━━━━━━━━━━━━━━━━━━━\u001b[0m \u001b[32m75.6/75.6 kB\u001b[0m \u001b[31m5.1 MB/s\u001b[0m eta \u001b[36m0:00:00\u001b[0m\n",
            "\u001b[?25hDownloading httpcore-1.0.5-py3-none-any.whl (77 kB)\n",
            "\u001b[2K   \u001b[90m━━━━━━━━━━━━━━━━━━━━━━━━━━━━━━━━━━━━━━━━\u001b[0m \u001b[32m77.9/77.9 kB\u001b[0m \u001b[31m5.0 MB/s\u001b[0m eta \u001b[36m0:00:00\u001b[0m\n",
            "\u001b[?25hDownloading h11-0.14.0-py3-none-any.whl (58 kB)\n",
            "\u001b[2K   \u001b[90m━━━━━━━━━━━━━━━━━━━━━━━━━━━━━━━━━━━━━━━━\u001b[0m \u001b[32m58.3/58.3 kB\u001b[0m \u001b[31m3.7 MB/s\u001b[0m eta \u001b[36m0:00:00\u001b[0m\n",
            "\u001b[?25hInstalling collected packages: h11, httpcore, httpx, groq\n",
            "Successfully installed groq-0.9.0 h11-0.14.0 httpcore-1.0.5 httpx-0.27.0\n"
          ]
        }
      ]
    },
    {
      "cell_type": "code",
      "source": [
        "audience_age_group = \"25-35 years\"\n",
        "speech_time =\"2mins\"\n",
        "product_summary= \" TCL 55\\ Class 4-Series 4K UHD Smart Roku TV (55S455) Cost:- The current price of the TCL 55 Class 4-Series 4K UHD Smart Roku TV is $363.01 on Amazon. Size:- The screen size is 55 inches. Pros:- *Picture Quality: The TV offers stunning 4K Ultra HD with excellent brightness and contrast.\\\\n- **Value for Money: It provides a great value for its price, making it a budget-friendly option.- **Streaming Apps: Includes all major streaming apps, including HBO Max.- **Ease of Use: The Roku OS is user-friendly and easy to navigate. Cons:- **Remote Control: Some users find the remote control to be less user-friendly compared to other models.- **Sound Quality: The built-in speakers are decent but may not be sufficient for those who prefer better sound quality. Reviews:- **Customer Reviews: The TV has a 4.4 out of 5-star rating on Best Buy, with many users praising its picture quality and value for money.- **Overall Satisfaction: Users generally find the TV to be a great budget option, with some minor complaints about the remote control and sound quality. TCL 55\\\\\\\" Class 4-Series LED 4K UHD Smart Android TV (55S434) Cost:- The current price of the TCL 55\\\\\\\" Class 4-Series LED 4K UHD Smart Android TV is around $200 on Best Buy. Size:- The screen size is 55 inches.\\\\n\\\\n#### Pros:\\\\n- **Picture Quality: Users praise the excellent picture quality and brightness of the TV.\\\\n- **Price: The TV offers great value for its price, making it an excellent budget option.\\\\n- **Streaming Apps: Includes all major streaming apps, including HBO Max. Cons:\\\\n- **Remote Control: Some users find the remote control to be less user-friendly compared to other models.\\\\n- **Sound Quality: The built-in speakers are decent but may not be sufficient for those who prefer better sound quality.\\\\n\\\\n#### Reviews:\\\\n- **Customer Reviews: The TV has a 4.4 out of 5-star rating on Best Buy, with many users praising its picture quality and value for money.\\\\n- **Overall Satisfaction: Users generally find the TV to be a great budget option, with some minor complaints about the remote control and sound quality.\\\\n\\\\n### TCL 55\\\\\\\" 4K UHD Smart TV (55R646)\\\\n\\\\n#### Cost:\\\\n- The current price of the TCL 55\\\\\\\" 4K UHD Smart TV is around $949.99 on PCMag.\\\\n\\\\n#### Size:\\\\n- The screen size is 55 inches.\\\\n\\\\n#### Pros:\\\\n- **Picture Quality: The TV offers strong performance with excellent contrast and color accuracy.\\\\n- **Streaming Apps: Includes all major streaming apps, including Google Cast and hands-free Google Assistant.\\\\n- **Gaming Features: Supports 120Hz refresh rate and VRR, making it suitable for gaming.\\\\n\\\\n#### Cons:\\\\n- **Software Instability: There have been reports of software instability, although TCL has released updates to address this issue.\\\\n- **Input Lag: Some users have noted lower input lag, which is beneficial for gaming.\\\\n\\\\n#### Reviews:\\\\n- **Editor's Choice: The TV has earned an Editor's Choice award for its strong performance and features.\\\\n- **Overall Satisfaction*: Users praise the TV's picture quality, contrast, and color accuracy, but some have noted issues with software stability. In summary, the TCL 55\\\\\\ Class 4-Series 4K UHD Smart Roku TV and the TCL 55\\\\\\ Class 4-Series LED 4K UHD Smart Android TV are both excellent budget options, offering great picture quality and value for money. The TCL 55\\\\\\ 4K UHD Smart TV (55R646) is a more premium model with strong performance and features, but it has had some issues with software stability.\\n\"\n"
      ],
      "metadata": {
        "id": "Z4Dwpq8l1o02"
      },
      "execution_count": 8,
      "outputs": []
    },
    {
      "cell_type": "code",
      "source": [
        "model_names = [\"llama3-8b-8192\" ,\"mixtral-8x7b-32768\", \"gemma-7b-it\"]"
      ],
      "metadata": {
        "id": "xmGW8W3y2KQU"
      },
      "execution_count": 9,
      "outputs": []
    },
    {
      "cell_type": "code",
      "execution_count": 10,
      "metadata": {
        "id": "BSYAAtZShivS",
        "colab": {
          "base_uri": "https://localhost:8080/"
        },
        "outputId": "de4acfb4-483e-4d1c-92d4-7b79e28e5440"
      },
      "outputs": [
        {
          "output_type": "stream",
          "name": "stdout",
          "text": [
            "Here's a product review pitch for social media content creators, targeting an audience of 25-35 years old, with a speech time of 2 minutes:\n",
            "\n",
            "\"Hey friends! Today, I'm excited to share with you three amazing TV options from TCL that will totally upgrade your home entertainment experience.\n",
            "\n",
            "First up, we have the TCL 55\" Class 4-Series 4K UHD Smart Roku TV. This budget-friendly option packs a punch with stunning 4K Ultra HD, excellent brightness and contrast, and all your favorite streaming apps like HBO Max. Plus, it's super easy to use with Roku OS. And the best part? It's only $363.01 on Amazon!\n",
            "\n",
            "Next, we have the TCL 55\" Class 4-Series LED 4K UHD Smart Android TV. This one's also a budget winner, offering great picture quality, brightness, and all the major streaming apps. It's a fantastic value for its price, and you can grab it for around $200 on Best Buy!\n",
            "\n",
            "Last but not least, we have the TCL 55\" 4K UHD Smart TV. This premium model boasts strong performance, excellent contrast and color accuracy, and advanced gaming features like 120Hz refresh rate and VRR. It's a bit pricier at $949.99 on PCMag, but trust me, it's worth it!\n",
            "\n",
            "So, which one should you choose? Well, if you're on a budget, the first two options are amazing choices. But if you're willing to splurge, the third option is a real showstopper.\n",
            "\n",
            "Remember, TCL TVs are all about picture quality, value, and ease of use. And with these three options, you can't go wrong!\n",
            "\n",
            "So, which TV will you choose? Let me know in the comments below! #TCLTV #HomeEntertainment #TechReview\""
          ]
        }
      ],
      "source": [
        "from groq import Groq\n",
        "\n",
        "client = Groq()\n",
        "completion = client.chat.completions.create(\n",
        "    model=model_names[0],\n",
        "    messages=[\n",
        "        {\n",
        "            \"role\": \"system\",\n",
        "            \"content\": \"You give product review pitches for social media content creators. You should provide the pitch only based on the product summary provided. You will tailor the speech for the audience type. Your content size depends on the speech time provided.\"\n",
        "        },\n",
        "        {\n",
        "            \"role\": \"user\",\n",
        "            \"content\": f\"Audience Type: {audience_age_group}, Speech Time: {speech_time}, Product Summary: {product_summary}\"\n",
        "        }\n",
        "    ],\n",
        "    temperature=1,\n",
        "    max_tokens=1024,\n",
        "    top_p=1,\n",
        "    stream=True,\n",
        "    stop=None,\n",
        ")\n",
        "\n",
        "for chunk in completion:\n",
        "    print(chunk.choices[0].delta.content or \"\", end=\"\")\n"
      ]
    },
    {
      "cell_type": "code",
      "source": [
        "import asyncio"
      ],
      "metadata": {
        "id": "NybqvbMwzR_n"
      },
      "execution_count": 11,
      "outputs": []
    },
    {
      "cell_type": "code",
      "source": [
        "from groq import AsyncGroq\n",
        "import nest_asyncio"
      ],
      "metadata": {
        "id": "8ET51wJ0zS8v"
      },
      "execution_count": 12,
      "outputs": []
    },
    {
      "cell_type": "code",
      "source": [
        "nest_asyncio.apply()"
      ],
      "metadata": {
        "id": "m_bBtuPgc5UE"
      },
      "execution_count": 13,
      "outputs": []
    },
    {
      "cell_type": "code",
      "source": [
        "async def get_completion(client, model):\n",
        "    chat_completion = await client.chat.completions.create(\n",
        "        messages=[\n",
        "            {\n",
        "                \"role\": \"system\",\n",
        "                \"content\": \"You give product review pitches for social media content creators. You should provide the pitch only based on the product summary provided. You will tailor the speech for the audience type. Your content size depends on the speech time provided.\"\n",
        "            },\n",
        "            {\n",
        "                \"role\": \"user\",\n",
        "                \"content\": f\"Audience Type: {audience_age_group}, Speech Time: {speech_time}, Product Summary: {product_summary}\"\n",
        "\n",
        "            }\n",
        "        ],\n",
        "        model=model,\n",
        "        temperature=1,\n",
        "        max_tokens=1024,\n",
        "        top_p=1,\n",
        "        stream=False,\n",
        "    )\n",
        "    return chat_completion.choices[0].message.content"
      ],
      "metadata": {
        "id": "2kyMa4rVbykL"
      },
      "execution_count": 14,
      "outputs": []
    },
    {
      "cell_type": "code",
      "source": [
        "!pip install openai"
      ],
      "metadata": {
        "colab": {
          "base_uri": "https://localhost:8080/"
        },
        "id": "rwMRgpRWKCQL",
        "outputId": "a62c53c2-214e-4a31-be04-40916e4ce3e8"
      },
      "execution_count": 16,
      "outputs": [
        {
          "output_type": "stream",
          "name": "stdout",
          "text": [
            "Collecting openai\n",
            "  Downloading openai-1.41.1-py3-none-any.whl.metadata (22 kB)\n",
            "Requirement already satisfied: anyio<5,>=3.5.0 in /usr/local/lib/python3.10/dist-packages (from openai) (3.7.1)\n",
            "Requirement already satisfied: distro<2,>=1.7.0 in /usr/lib/python3/dist-packages (from openai) (1.7.0)\n",
            "Requirement already satisfied: httpx<1,>=0.23.0 in /usr/local/lib/python3.10/dist-packages (from openai) (0.27.0)\n",
            "Collecting jiter<1,>=0.4.0 (from openai)\n",
            "  Downloading jiter-0.5.0-cp310-cp310-manylinux_2_17_x86_64.manylinux2014_x86_64.whl.metadata (3.6 kB)\n",
            "Requirement already satisfied: pydantic<3,>=1.9.0 in /usr/local/lib/python3.10/dist-packages (from openai) (2.8.2)\n",
            "Requirement already satisfied: sniffio in /usr/local/lib/python3.10/dist-packages (from openai) (1.3.1)\n",
            "Requirement already satisfied: tqdm>4 in /usr/local/lib/python3.10/dist-packages (from openai) (4.66.5)\n",
            "Requirement already satisfied: typing-extensions<5,>=4.11 in /usr/local/lib/python3.10/dist-packages (from openai) (4.12.2)\n",
            "Requirement already satisfied: idna>=2.8 in /usr/local/lib/python3.10/dist-packages (from anyio<5,>=3.5.0->openai) (3.7)\n",
            "Requirement already satisfied: exceptiongroup in /usr/local/lib/python3.10/dist-packages (from anyio<5,>=3.5.0->openai) (1.2.2)\n",
            "Requirement already satisfied: certifi in /usr/local/lib/python3.10/dist-packages (from httpx<1,>=0.23.0->openai) (2024.7.4)\n",
            "Requirement already satisfied: httpcore==1.* in /usr/local/lib/python3.10/dist-packages (from httpx<1,>=0.23.0->openai) (1.0.5)\n",
            "Requirement already satisfied: h11<0.15,>=0.13 in /usr/local/lib/python3.10/dist-packages (from httpcore==1.*->httpx<1,>=0.23.0->openai) (0.14.0)\n",
            "Requirement already satisfied: annotated-types>=0.4.0 in /usr/local/lib/python3.10/dist-packages (from pydantic<3,>=1.9.0->openai) (0.7.0)\n",
            "Requirement already satisfied: pydantic-core==2.20.1 in /usr/local/lib/python3.10/dist-packages (from pydantic<3,>=1.9.0->openai) (2.20.1)\n",
            "Downloading openai-1.41.1-py3-none-any.whl (362 kB)\n",
            "\u001b[2K   \u001b[90m━━━━━━━━━━━━━━━━━━━━━━━━━━━━━━━━━━━━━━━━\u001b[0m \u001b[32m362.5/362.5 kB\u001b[0m \u001b[31m7.0 MB/s\u001b[0m eta \u001b[36m0:00:00\u001b[0m\n",
            "\u001b[?25hDownloading jiter-0.5.0-cp310-cp310-manylinux_2_17_x86_64.manylinux2014_x86_64.whl (318 kB)\n",
            "\u001b[2K   \u001b[90m━━━━━━━━━━━━━━━━━━━━━━━━━━━━━━━━━━━━━━━━\u001b[0m \u001b[32m318.9/318.9 kB\u001b[0m \u001b[31m14.4 MB/s\u001b[0m eta \u001b[36m0:00:00\u001b[0m\n",
            "\u001b[?25hInstalling collected packages: jiter, openai\n",
            "Successfully installed jiter-0.5.0 openai-1.41.1\n"
          ]
        }
      ]
    },
    {
      "cell_type": "code",
      "source": [
        "from openai import AsyncClient\n",
        "\n",
        "async def chat_gpt_completion(client, model):\n",
        "  chat_completion = await client.chat.completions.create(\n",
        "      messages=[\n",
        "            {\n",
        "                \"role\": \"system\",\n",
        "                \"content\": \"You give product review pitches for social media content creators. You should provide the pitch only based on the product summary provided. You will tailor the speech for the audience type. Your content size depends on the speech time provided.\"\n",
        "            },\n",
        "            {\n",
        "                \"role\": \"user\",\n",
        "                \"content\": f\"Audience Type: {audience_age_group}, Speech Time: {speech_time}, Product Summary: {product_summary}\"\n",
        "\n",
        "            }\n",
        "        ],\n",
        "        model=model,\n",
        "        temperature=1,\n",
        "        max_tokens=1024,\n",
        "        top_p=1,\n",
        "        stream=False,\n",
        "    )\n",
        "  return chat_completion.choices[0].message.content\n",
        "\n"
      ],
      "metadata": {
        "id": "nqxm_AG_laK9"
      },
      "execution_count": 17,
      "outputs": []
    },
    {
      "cell_type": "code",
      "source": [
        "import os\n",
        "api_key = os.getenv(\"OPENAI_API_KEY_Tirth\")\n"
      ],
      "metadata": {
        "id": "mrCxlqxqJXGz"
      },
      "execution_count": 18,
      "outputs": []
    },
    {
      "cell_type": "code",
      "source": [],
      "metadata": {
        "id": "PWG8S7VUKjh5"
      },
      "execution_count": null,
      "outputs": []
    },
    {
      "cell_type": "code",
      "source": [
        "async def main():\n",
        "    client = AsyncGroq()\n",
        "    tasks = [get_completion(client, model) for model in model_names]\n",
        "    tasks.append(chat_gpt_completion(AsyncClient(api_key=api_key), \"gpt-4\"))\n",
        "    results = await asyncio.gather(*tasks)\n",
        "    model_names.append(\"gpt_4\")\n",
        "    for model, result in zip(model_names, results):\n",
        "        print(f\"Model: {model}\\nCompletion: {result}\\n\")\n",
        "    return results\n"
      ],
      "metadata": {
        "id": "PZ0CkNuucLbq"
      },
      "execution_count": 25,
      "outputs": []
    },
    {
      "cell_type": "code",
      "source": [
        "results = asyncio.run(main())"
      ],
      "metadata": {
        "colab": {
          "base_uri": "https://localhost:8080/"
        },
        "id": "npzqUZwVcaN7",
        "outputId": "75555f66-036d-4ae7-f71e-b1c72fb77a1e"
      },
      "execution_count": 26,
      "outputs": [
        {
          "output_type": "stream",
          "name": "stdout",
          "text": [
            "Model: llama3-8b-8192\n",
            "Completion: Hi guys!\n",
            "\n",
            "Are you tired of breaking the bank on a new TV? Look no further! I'm excited to share with you three incredible options from TCL that won't burn a hole in your pocket.\n",
            "\n",
            "First up, we have the TCL 55\" Class 4-Series 4K UHD Smart Roku TV, which is currently priced at just $363.01 on Amazon. This TV boasts stunning 4K picture quality with excellent brightness and contrast, making it perfect for immersing yourself in your favorite movies and shows. Plus, it's equipped with all major streaming apps, including HBO Max, and features a user-friendly Roku OS.\n",
            "\n",
            "If budget is a major concern, the TCL 55\" Class 4-Series LED 4K UHD Smart Android TV is another fantastic option. You can grab this one for around $200 on Best Buy, which is an absolute steal! This TV offers excellent picture quality, great value for its price, and all the major streaming apps. However, keep in mind that the remote control and sound quality might not be as impressive as some of the higher-end models.\n",
            "\n",
            "For those looking to splurge a bit more, the TCL 55\" 4K UHD Smart TV (55R646) is a premium option that's worth considering. With a price tag of around $949.99, you get strong performance, excellent contrast and color accuracy, and impressive features like a 120Hz refresh rate and VRR for gaming. However, some users have reported software instability issues, so be sure to check for updates before making the purchase.\n",
            "\n",
            "In conclusion, the TCL 55\" Class 4-Series 4K UHD Smart Roku TV and TCL 55\" Class 4-Series LED 4K UHD Smart Android TV are both excellent budget options that won't compromise on picture quality. The TCL 55\" 4K UHD Smart TV (55R646) is a more premium model that offers strong performance and features, but be aware of the potential software issues.\n",
            "\n",
            "Which one will you choose? Let me know in the comments below!\n",
            "\n",
            "Time's up! Thanks for watching, and I'll see you in the next video!\n",
            "\n",
            "Model: mixtral-8x7b-32768\n",
            "Completion: Hey there, millennials! I'm here to talk about the TCL 55\" Class 4-Series 4K UHD Smart Roku TV (55S455) that you can snag on Amazon for just $363.01. This TV is a budget-friendly option that packs a punch when it comes to picture quality and value for money.\n",
            "\n",
            "With stunning 4K Ultra HD and excellent brightness and contrast, you'll be blown away by the picture on this 55-inch screen. Plus, it has all the major streaming apps, including HBO Max, making it easy for you to access your favorite shows and movies. And, the Roku OS is super easy to navigate, so you can spend less time figuring out how to use your TV and more time enjoying it.\n",
            "\n",
            "Now, let's talk about the cons. Some users find the remote control to be a little less user-friendly than other models, and the built-in speakers may not provide the best sound quality for those who prefer something more substantial. However, with a 4.4 out of 5-star rating on Best Buy, many users praise its picture quality and value for money.\n",
            "\n",
            "If you're looking for an even more affordable option, check out the TCL 55\" Class 4-Series LED 4K UHD Smart Android TV (55S434) available on Best Buy for approximately $200. It has excellent picture quality and brightness, making it a fantastic budget option. The con is the remote control, but other than that, it's a solid choice.\n",
            "\n",
            "Finally, if you're willing to splurge, the TCL 55\" 4K UHD Smart TV (55R646) offers strong performance with excellent contrast, color accuracy, and all major streaming apps, including Google Cast and hands-free Google Assistant. The downside is that some users have reported software instability, but TCL has released updates to address this issue.\n",
            "\n",
            "In conclusion, the TCL 55\" Class 4-Series 4K UHD Smart Roku TV and the TCL 55\" Class 4-Series LED 4K UHD Smart Android TV are both excellent budget options. The TCL 55\" 4K UHD Smart TV (55R646) is a premium model with strong performance and features, but it has had some issues with software stability. Whatever you choose, you can't go wrong with TCL!\n",
            "\n",
            "Model: gemma-7b-it\n",
            "Completion: ## Content Creator Social Media Pitch: TCL 55\" 4K UHD Smart TVs\n",
            "\n",
            "**Hey there, content creators!** 📺\n",
            "\n",
            "Ever wanted to upgrade your entertainment game without breaking the bank? Look no further than the amazing TCL 55\" 4K UHD Smart TVs! 🤯\n",
            "\n",
            "**Here's what you need to know:**\n",
            "\n",
            "**✅ Budget-friendly bliss:** Get incredible 4K picture and fantastic brightness for under $363! 🤯\n",
            "**✅ Entertainment central:** Enjoy all your favorite streaming apps like Netflix, Hulu, and HBO Max right out of the box. 🍿\n",
            "**✅ Smart as can be:** The Roku OS is super easy to navigate and control. 🔥\n",
            "\n",
            "**But that's not all!** There are even more reasons to love these TCL TVs:\n",
            "\n",
            "- **Excellent contrast and color accuracy** for super realistic picture quality. 🌈\n",
            "- **Dedicated gaming features** like 120Hz refresh rate and VRR for next-level gaming. 🎮\n",
            "- **Free software updates** to keep things fresh and secure. 🛡️\n",
            "\n",
            "**And get this:** TCL offers two different models to fit your needs and budget. 🤑\n",
            "\n",
            "- **TCL 55\" 4K UHD Smart Roku TV:** Great for those who want a budget-friendly 4K TV with fantastic picture quality. \n",
            "- **TCL 55\" 4K UHD Smart Android TV:** Offers more features and Google Assistant for a slightly higher price.\n",
            "\n",
            "**So why wait?** Upgrade your entertainment experience with a TCL 55\" 4K UHD Smart TV today and start streaming, gaming, and enjoying your favorite shows in stunning detail! 🤩\n",
            "\n",
            "**Click the link in my bio to learn more and snag an awesome deal!** ➡️ [Insert Link]\n",
            "\n",
            "**Don't forget to tag @TCLTV in your posts and use the hashtag #TCLLife for a chance to be featured!** ✨\n",
            "\n",
            "**#TVReview #SmartTV #BudgetGaming #EntertainmentBoost #TCLLife**\n",
            "\n",
            "Model: gpt_4\n",
            "Completion: Friends, welcome back! Life is all about experiences, right? And while we’re at it, why not experience the best in visual entertainment? I have three stunning products here that are transforming couch-potato life as we know it. Shout-out to all those 4K enthusiasts and streamaholics out there, today we're talking about some breakthrough TVs from TCL!\n",
            "\n",
            "First up, TCL's 55” Class 4-Series 4K UHD Smart Roku TV. Priced at an attractive $363.01 with an impressive 4.4 stars rating to its credit, this smart TV is a contemporary classic. Ultra HD picture quality, top streaming apps, and an easy-to-use Roku interface - it's got it all. It might not have the best remote control or built-in speakers, but this creature of value is an undeniable game changer - all that for the price of regular dinner outings!\n",
            "\n",
            "Next, we have TCL's other variant, the 55\" Class 4-Series LED 4K UHD Smart Android TV. Priced at around $200, this gem is an absolute steal! The product offers an incredible balance between picture quality and affordability—a true testimony to TCL's innovation. Same pros, same gripes with the remote and speakers, but boy, that price point is just too irresistible!\n",
            "\n",
            "Lastly, for the perfectionists out there, we've got a premium treat: TCL 55\" 4K UHD Smart TV (55R646). This higher-end 55\" beauty not only provides excellent contrast and color accuracy, but also unique gaming features with a 120Hz refresh rate, VRR support, and a full Google ecosystem. Priced at $949.99, it's for those unwilling to compromise on vision. Although plagued by some software stability issues in the past, it seems like TCL is addressing these diligently.\n",
            "\n",
            "So folks, today I talked about three products that prove quality does not necessarily drive up prices. Whether you're a value buyer or a gaming enthusiast, I hope we've thrown some light on TCL's range that's been disrupting the 4K market. As always, pick what works best for your needs and budget. Until next time - keep streaming, keep experiencing!\n",
            "\n"
          ]
        }
      ]
    }
  ]
}