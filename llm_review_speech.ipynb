{
  "nbformat": 4,
  "nbformat_minor": 0,
  "metadata": {
    "colab": {
      "provenance": [],
      "authorship_tag": "ABX9TyP270FwNVxicW8uIU8B7/eK",
      "include_colab_link": true
    },
    "kernelspec": {
      "name": "python3",
      "display_name": "Python 3"
    },
    "language_info": {
      "name": "python"
    }
  },
  "cells": [
    {
      "cell_type": "markdown",
      "metadata": {
        "id": "view-in-github",
        "colab_type": "text"
      },
      "source": [
        "<a href=\"https://colab.research.google.com/github/Tharanbala/product-reviewer/blob/shoby_llm_aync_product_pitch/llm_review_speech.ipynb\" target=\"_parent\"><img src=\"https://colab.research.google.com/assets/colab-badge.svg\" alt=\"Open In Colab\"/></a>"
      ]
    },
    {
      "cell_type": "code",
      "source": [
        "!pip install python-dotenv"
      ],
      "metadata": {
        "colab": {
          "base_uri": "https://localhost:8080/"
        },
        "id": "cMSU6W8ZoONA",
        "outputId": "0b61e100-f8f8-4031-d003-f18c5fb8edce"
      },
      "execution_count": 1,
      "outputs": [
        {
          "output_type": "stream",
          "name": "stdout",
          "text": [
            "Collecting python-dotenv\n",
            "  Downloading python_dotenv-1.0.1-py3-none-any.whl.metadata (23 kB)\n",
            "Downloading python_dotenv-1.0.1-py3-none-any.whl (19 kB)\n",
            "Installing collected packages: python-dotenv\n",
            "Successfully installed python-dotenv-1.0.1\n"
          ]
        }
      ]
    },
    {
      "cell_type": "code",
      "source": [
        "import os\n",
        "from dotenv import load_dotenv, find_dotenv\n",
        "\n",
        "load_dotenv()"
      ],
      "metadata": {
        "colab": {
          "base_uri": "https://localhost:8080/"
        },
        "id": "ZcQ_VY0YoSSH",
        "outputId": "f368ddb8-6a8d-4312-9bab-6f2dd5a27314"
      },
      "execution_count": 3,
      "outputs": [
        {
          "output_type": "execute_result",
          "data": {
            "text/plain": [
              "True"
            ]
          },
          "metadata": {},
          "execution_count": 3
        }
      ]
    },
    {
      "cell_type": "code",
      "source": [
        "!pip install groq"
      ],
      "metadata": {
        "colab": {
          "base_uri": "https://localhost:8080/"
        },
        "id": "FjnOnF1docv1",
        "outputId": "9a12d96f-705c-48c7-c876-743fe4b68dc1"
      },
      "execution_count": 4,
      "outputs": [
        {
          "output_type": "stream",
          "name": "stdout",
          "text": [
            "Collecting groq\n",
            "  Downloading groq-0.9.0-py3-none-any.whl.metadata (13 kB)\n",
            "Requirement already satisfied: anyio<5,>=3.5.0 in /usr/local/lib/python3.10/dist-packages (from groq) (3.7.1)\n",
            "Requirement already satisfied: distro<2,>=1.7.0 in /usr/lib/python3/dist-packages (from groq) (1.7.0)\n",
            "Collecting httpx<1,>=0.23.0 (from groq)\n",
            "  Downloading httpx-0.27.0-py3-none-any.whl.metadata (7.2 kB)\n",
            "Requirement already satisfied: pydantic<3,>=1.9.0 in /usr/local/lib/python3.10/dist-packages (from groq) (2.8.2)\n",
            "Requirement already satisfied: sniffio in /usr/local/lib/python3.10/dist-packages (from groq) (1.3.1)\n",
            "Requirement already satisfied: typing-extensions<5,>=4.7 in /usr/local/lib/python3.10/dist-packages (from groq) (4.12.2)\n",
            "Requirement already satisfied: idna>=2.8 in /usr/local/lib/python3.10/dist-packages (from anyio<5,>=3.5.0->groq) (3.7)\n",
            "Requirement already satisfied: exceptiongroup in /usr/local/lib/python3.10/dist-packages (from anyio<5,>=3.5.0->groq) (1.2.2)\n",
            "Requirement already satisfied: certifi in /usr/local/lib/python3.10/dist-packages (from httpx<1,>=0.23.0->groq) (2024.7.4)\n",
            "Collecting httpcore==1.* (from httpx<1,>=0.23.0->groq)\n",
            "  Downloading httpcore-1.0.5-py3-none-any.whl.metadata (20 kB)\n",
            "Collecting h11<0.15,>=0.13 (from httpcore==1.*->httpx<1,>=0.23.0->groq)\n",
            "  Downloading h11-0.14.0-py3-none-any.whl.metadata (8.2 kB)\n",
            "Requirement already satisfied: annotated-types>=0.4.0 in /usr/local/lib/python3.10/dist-packages (from pydantic<3,>=1.9.0->groq) (0.7.0)\n",
            "Requirement already satisfied: pydantic-core==2.20.1 in /usr/local/lib/python3.10/dist-packages (from pydantic<3,>=1.9.0->groq) (2.20.1)\n",
            "Downloading groq-0.9.0-py3-none-any.whl (103 kB)\n",
            "\u001b[2K   \u001b[90m━━━━━━━━━━━━━━━━━━━━━━━━━━━━━━━━━━━━━━━━\u001b[0m \u001b[32m103.5/103.5 kB\u001b[0m \u001b[31m2.3 MB/s\u001b[0m eta \u001b[36m0:00:00\u001b[0m\n",
            "\u001b[?25hDownloading httpx-0.27.0-py3-none-any.whl (75 kB)\n",
            "\u001b[2K   \u001b[90m━━━━━━━━━━━━━━━━━━━━━━━━━━━━━━━━━━━━━━━━\u001b[0m \u001b[32m75.6/75.6 kB\u001b[0m \u001b[31m6.5 MB/s\u001b[0m eta \u001b[36m0:00:00\u001b[0m\n",
            "\u001b[?25hDownloading httpcore-1.0.5-py3-none-any.whl (77 kB)\n",
            "\u001b[2K   \u001b[90m━━━━━━━━━━━━━━━━━━━━━━━━━━━━━━━━━━━━━━━━\u001b[0m \u001b[32m77.9/77.9 kB\u001b[0m \u001b[31m6.8 MB/s\u001b[0m eta \u001b[36m0:00:00\u001b[0m\n",
            "\u001b[?25hDownloading h11-0.14.0-py3-none-any.whl (58 kB)\n",
            "\u001b[2K   \u001b[90m━━━━━━━━━━━━━━━━━━━━━━━━━━━━━━━━━━━━━━━━\u001b[0m \u001b[32m58.3/58.3 kB\u001b[0m \u001b[31m4.6 MB/s\u001b[0m eta \u001b[36m0:00:00\u001b[0m\n",
            "\u001b[?25hInstalling collected packages: h11, httpcore, httpx, groq\n",
            "Successfully installed groq-0.9.0 h11-0.14.0 httpcore-1.0.5 httpx-0.27.0\n"
          ]
        }
      ]
    },
    {
      "cell_type": "code",
      "source": [
        "audience_age_group = \"25-35 years\"\n",
        "speech_time =\"2mins\"\n",
        "product_summary= \" TCL 55\\ Class 4-Series 4K UHD Smart Roku TV (55S455) Cost:- The current price of the TCL 55 Class 4-Series 4K UHD Smart Roku TV is $363.01 on Amazon. Size:- The screen size is 55 inches. Pros:- *Picture Quality: The TV offers stunning 4K Ultra HD with excellent brightness and contrast.\\\\n- **Value for Money: It provides a great value for its price, making it a budget-friendly option.- **Streaming Apps: Includes all major streaming apps, including HBO Max.- **Ease of Use: The Roku OS is user-friendly and easy to navigate. Cons:- **Remote Control: Some users find the remote control to be less user-friendly compared to other models.- **Sound Quality: The built-in speakers are decent but may not be sufficient for those who prefer better sound quality. Reviews:- **Customer Reviews: The TV has a 4.4 out of 5-star rating on Best Buy, with many users praising its picture quality and value for money.- **Overall Satisfaction: Users generally find the TV to be a great budget option, with some minor complaints about the remote control and sound quality. TCL 55\\\\\\\" Class 4-Series LED 4K UHD Smart Android TV (55S434) Cost:- The current price of the TCL 55\\\\\\\" Class 4-Series LED 4K UHD Smart Android TV is around $200 on Best Buy. Size:- The screen size is 55 inches.\\\\n\\\\n#### Pros:\\\\n- **Picture Quality: Users praise the excellent picture quality and brightness of the TV.\\\\n- **Price: The TV offers great value for its price, making it an excellent budget option.\\\\n- **Streaming Apps: Includes all major streaming apps, including HBO Max. Cons:\\\\n- **Remote Control: Some users find the remote control to be less user-friendly compared to other models.\\\\n- **Sound Quality: The built-in speakers are decent but may not be sufficient for those who prefer better sound quality.\\\\n\\\\n#### Reviews:\\\\n- **Customer Reviews: The TV has a 4.4 out of 5-star rating on Best Buy, with many users praising its picture quality and value for money.\\\\n- **Overall Satisfaction: Users generally find the TV to be a great budget option, with some minor complaints about the remote control and sound quality.\\\\n\\\\n### TCL 55\\\\\\\" 4K UHD Smart TV (55R646)\\\\n\\\\n#### Cost:\\\\n- The current price of the TCL 55\\\\\\\" 4K UHD Smart TV is around $949.99 on PCMag.\\\\n\\\\n#### Size:\\\\n- The screen size is 55 inches.\\\\n\\\\n#### Pros:\\\\n- **Picture Quality: The TV offers strong performance with excellent contrast and color accuracy.\\\\n- **Streaming Apps: Includes all major streaming apps, including Google Cast and hands-free Google Assistant.\\\\n- **Gaming Features: Supports 120Hz refresh rate and VRR, making it suitable for gaming.\\\\n\\\\n#### Cons:\\\\n- **Software Instability: There have been reports of software instability, although TCL has released updates to address this issue.\\\\n- **Input Lag: Some users have noted lower input lag, which is beneficial for gaming.\\\\n\\\\n#### Reviews:\\\\n- **Editor's Choice: The TV has earned an Editor's Choice award for its strong performance and features.\\\\n- **Overall Satisfaction*: Users praise the TV's picture quality, contrast, and color accuracy, but some have noted issues with software stability. In summary, the TCL 55\\\\\\ Class 4-Series 4K UHD Smart Roku TV and the TCL 55\\\\\\ Class 4-Series LED 4K UHD Smart Android TV are both excellent budget options, offering great picture quality and value for money. The TCL 55\\\\\\ 4K UHD Smart TV (55R646) is a more premium model with strong performance and features, but it has had some issues with software stability.\\n\"\n"
      ],
      "metadata": {
        "id": "Z4Dwpq8l1o02"
      },
      "execution_count": 10,
      "outputs": []
    },
    {
      "cell_type": "code",
      "source": [
        "model_names = [\"llama3-8b-8192\" ,\"mixtral-8x7b-32768\", \"gemma-7b-it\"]"
      ],
      "metadata": {
        "id": "xmGW8W3y2KQU"
      },
      "execution_count": 11,
      "outputs": []
    },
    {
      "cell_type": "code",
      "execution_count": 10,
      "metadata": {
        "id": "BSYAAtZShivS",
        "colab": {
          "base_uri": "https://localhost:8080/"
        },
        "outputId": "a3843070-6bba-414b-9c13-5dfef6bbde35"
      },
      "outputs": [
        {
          "output_type": "stream",
          "name": "stdout",
          "text": [
            "Hey everyone! \n",
            "\n",
            "Are you in the market for a new TV that won't break the bank? I've got you covered! Today, I'm reviewing the TCL 55 Class 4-Series 4K UHD Smart Roku TV, which is available on Amazon for just $363.01. \n",
            "\n",
            "First, let's talk about the picture quality. This TV delivers stunning 4K Ultra HD with excellent brightness and contrast. It's perfect for watching your favorite shows and movies. Plus, it's a great value for its price, making it a budget-friendly option.\n",
            "\n",
            "Another major perk is that it includes all major streaming apps, including HBO Max, so you'll have endless entertainment options at your fingertips. And, the Roku OS is super easy to use, so you won't have to worry about figuring out a complicated system.\n",
            "\n",
            "Now, I know some of you might be thinking, \"But what about the remote control?\" Honestly, some users have said it's not as user-friendly as other models, but it's not a deal-breaker. And, the built-in speakers are decent, but if you're a sound quality snob, you might want to invest in a separate sound system.\n",
            "\n",
            "Overall, this TV has a 4.4-star rating on Best Buy, with users loving its picture quality and value for money. If you're looking for a budget-friendly option with great features, this is definitely worth considering.\n",
            "\n",
            "That's it for today's review! Let me know in the comments if you have any questions or if you've had any experience with the TCL 55 Class 4-Series 4K UHD Smart Roku TV. Thanks for watching!\n",
            "\n",
            "---\n",
            "\n",
            "Video Duration: 1:58"
          ]
        }
      ],
      "source": [
        "from groq import Groq\n",
        "\n",
        "client = Groq()\n",
        "completion = client.chat.completions.create(\n",
        "    model=model_names[0],\n",
        "    messages=[\n",
        "        {\n",
        "            \"role\": \"system\",\n",
        "            \"content\": \"You give product review pitches for social media content creators. You should provide the pitch only based on the product summary provided. You will tailor the speech for the audience type. Your content size depends on the speech time provided.\"\n",
        "        },\n",
        "        {\n",
        "            \"role\": \"user\",\n",
        "            \"content\": f\"Audience Type: {audience_age_group}, Speech Time: {speech_time}, Product Summary: {product_summary}\"\n",
        "        }\n",
        "    ],\n",
        "    temperature=1,\n",
        "    max_tokens=1024,\n",
        "    top_p=1,\n",
        "    stream=True,\n",
        "    stop=None,\n",
        ")\n",
        "\n",
        "for chunk in completion:\n",
        "    print(chunk.choices[0].delta.content or \"\", end=\"\")\n"
      ]
    },
    {
      "cell_type": "code",
      "source": [
        "import asyncio"
      ],
      "metadata": {
        "id": "NybqvbMwzR_n"
      },
      "execution_count": 8,
      "outputs": []
    },
    {
      "cell_type": "code",
      "source": [
        "from groq import AsyncGroq\n",
        "import nest_asyncio"
      ],
      "metadata": {
        "id": "8ET51wJ0zS8v"
      },
      "execution_count": 19,
      "outputs": []
    },
    {
      "cell_type": "code",
      "source": [
        "nest_asyncio.apply()"
      ],
      "metadata": {
        "id": "m_bBtuPgc5UE"
      },
      "execution_count": 20,
      "outputs": []
    },
    {
      "cell_type": "code",
      "source": [
        "async def get_completion(client, model):\n",
        "    chat_completion = await client.chat.completions.create(\n",
        "        messages=[\n",
        "            {\n",
        "                \"role\": \"system\",\n",
        "                \"content\": \"You give product review pitches for social media content creators. You should provide the pitch only based on the product summary provided. You will tailor the speech for the audience type. Your content size depends on the speech time provided.\"\n",
        "            },\n",
        "            {\n",
        "                \"role\": \"user\",\n",
        "                \"content\": f\"Audience Type: {audience_age_group}, Speech Time: {speech_time}, Product Summary: {product_summary}\"\n",
        "\n",
        "            }\n",
        "        ],\n",
        "        model=model,\n",
        "        temperature=0.5,\n",
        "        max_tokens=1024,\n",
        "        top_p=1,\n",
        "        stream=False,\n",
        "    )\n",
        "    return chat_completion.choices[0].message.content"
      ],
      "metadata": {
        "colab": {
          "base_uri": "https://localhost:8080/"
        },
        "id": "2kyMa4rVbykL",
        "outputId": "bb334806-c429-4339-abb1-de3362c7cc9f"
      },
      "execution_count": 21,
      "outputs": [
        {
          "output_type": "stream",
          "name": "stderr",
          "text": [
            "Exception ignored in: <coroutine object main at 0x7c5f787cad50>\n",
            "Traceback (most recent call last):\n",
            "  File \"<string>\", line 1, in <lambda>\n",
            "KeyError: '__import__'\n",
            "Exception ignored in: <coroutine object main at 0x7c5f787cad50>\n",
            "Traceback (most recent call last):\n",
            "  File \"<string>\", line 1, in <lambda>\n",
            "KeyError: '__import__'\n"
          ]
        }
      ]
    },
    {
      "cell_type": "code",
      "source": [
        "async def main():\n",
        "    client = AsyncGroq()\n",
        "    tasks = [get_completion(client, model) for model in model_names]\n",
        "    results = await asyncio.gather(*tasks)\n",
        "\n",
        "    for model, result in zip(model_names, results):\n",
        "        print(f\"Model: {model}\\nCompletion: {result}\\n\")\n"
      ],
      "metadata": {
        "id": "PZ0CkNuucLbq"
      },
      "execution_count": 22,
      "outputs": []
    },
    {
      "cell_type": "code",
      "source": [
        "asyncio.run(main())"
      ],
      "metadata": {
        "colab": {
          "base_uri": "https://localhost:8080/"
        },
        "id": "npzqUZwVcaN7",
        "outputId": "4c2c72a4-7508-49fc-8879-55424f4a2fd3"
      },
      "execution_count": 23,
      "outputs": [
        {
          "output_type": "stream",
          "name": "stderr",
          "text": [
            "/usr/local/lib/python3.10/dist-packages/httpx/_models.py:126: RuntimeWarning: coroutine 'main' was never awaited\n",
            "  return [(raw_key, value) for raw_key, _, value in self._list]\n",
            "RuntimeWarning: Enable tracemalloc to get the object allocation traceback\n"
          ]
        },
        {
          "output_type": "stream",
          "name": "stdout",
          "text": [
            "Model: llama3-8b-8192\n",
            "Completion: Here's a 2-minute product review pitch for social media content creators targeting 25-35 years old:\n",
            "\n",
            "Hey guys, welcome back to my channel! Today, I'm excited to share with you three amazing TV options from TCL that will upgrade your entertainment experience. As we all know, finding the perfect TV can be overwhelming, but don't worry, I've got you covered.\n",
            "\n",
            "First up, we have the TCL 55\" Class 4-Series 4K UHD Smart Roku TV. This budget-friendly option is a steal at just $363.01 on Amazon. With its stunning 4K Ultra HD picture quality, excellent brightness, and contrast, you'll feel like you're right in the action. Plus, it comes with all the major streaming apps, including HBO Max, so you can access your favorite shows and movies with ease.\n",
            "\n",
            "But what really sets this TV apart is its value for money. You get all these amazing features at a price that's hard to beat. And with its user-friendly Roku OS, you'll have no problem navigating through all the options.\n",
            "\n",
            "Now, I know some of you might be thinking, \"But what about the remote control?\" Well, I'll be honest, some users have reported that it's not as user-friendly as other models. And the sound quality could be better, but overall, this TV is a great budget option.\n",
            "\n",
            "Next, we have the TCL 55\" Class 4-Series LED 4K UHD Smart Android TV, which is priced around $200 on Best Buy. This TV also offers excellent picture quality, brightness, and contrast, making it another great budget option. And, of course, it comes with all the major streaming apps, including HBO Max.\n",
            "\n",
            "The only drawback is the remote control, which some users find less user-friendly. And the sound quality could be better, but overall, this TV is a great value for its price.\n",
            "\n",
            "Last but not least, we have the TCL 55\" 4K UHD Smart TV, which is a more premium option priced around $949.99 on PCMag. This TV offers strong performance with excellent contrast and color accuracy, making it perfect for gaming and movie nights. Plus, it comes with all the major streaming apps, including Google Cast and hands-free Google Assistant.\n",
            "\n",
            "However, some users have reported issues with software stability, and there's been some input lag, which can be a problem for gamers. But overall, this TV is a great option for those who want a high-end TV with all the bells and whistles.\n",
            "\n",
            "So, which TV is right for you? If you're on a budget, the TCL 4-Series options are great choices. But if you're willing to splurge, the TCL 55\" 4K UHD Smart TV is definitely worth considering.\n",
            "\n",
            "Thanks for watching, guys! Let me know in the comments which TV you're most interested in, and don't forget to like and subscribe for more tech reviews and recommendations!\n",
            "\n",
            "Model: mixtral-8x7b-32768\n",
            "Completion: Hey there, millennials! If you're in the market for a new TV, I've got an amazing budget-friendly option for you - the TCL 55\" Class 4-Series 4K UHD Smart Roku TV (55S455)! This TV is currently priced at just $363.01 on Amazon, making it a steal for its impressive features.\n",
            "\n",
            "First off, let's talk about the stunning 4K Ultra HD picture quality. With excellent brightness and contrast, this TV will bring your favorite shows and movies to life. Plus, it includes all major streaming apps, like HBO Max, making it easy to access your favorite content.\n",
            "\n",
            "But what really sets this TV apart is its value for money. You'll be hard-pressed to find a better TV at this price point. And with a 4.4 out of 5-star rating on Best Buy, it's clear that users are happy with their purchase.\n",
            "\n",
            "Of course, no product is without its drawbacks. Some users have found the remote control to be less user-friendly compared to other models. And while the built-in speakers are decent, those who prefer better sound quality may want to invest in external speakers.\n",
            "\n",
            "Now, if you're looking for an even more affordable option, check out the TCL 55\" Class 4-Series LED 4K UHD Smart Android TV (55S434) for around $200 on Best Buy. It has similar features, like excellent picture quality and value for money, but with a different smart platform - Android TV.\n",
            "\n",
            "But if you're willing to splurge a bit, consider the TCL 55\" 4K UHD Smart TV (55R646) for around $949.99 on PCMag. This premium model offers strong performance with excellent contrast and color accuracy, as well as gaming features like a 120Hz refresh rate and VRR. However, there have been reports of software instability, so keep that in mind.\n",
            "\n",
            "Overall, these TCL TVs are excellent options for anyone looking for a new TV. With great picture quality, value for money, and easy access to streaming apps, you can't go wrong. So, what are you waiting for? Upgrade your home entertainment system today!\n",
            "\n",
            "Model: gemma-7b-it\n",
            "Completion: ## TCL 55\" 4K UHD Smart TVs: Budget-Friendly Options with Great Picture Quality!\n",
            "\n",
            "Hey there, content creators! 👋\n",
            "\n",
            "Ever wanted a stunning 4K TV that won't break the bank? Look no further than the TCL 55\" Class 4-Series 4K UHD Smart Roku TV! 🤩\n",
            "\n",
            "**Here's what you get for under $400:**\n",
            "\n",
            "- **Crystal-clear 4K picture** with excellent brightness and contrast for vibrant and immersive visuals.\n",
            "- **Budget-friendly price:** Get premium picture quality without blowing your budget.\n",
            "- **Stream your favorite shows:** Access all the major streaming apps like Netflix, Hulu, and HBO Max.\n",
            "- **Easy-to-use Roku OS:** Navigate with ease and find your entertainment in seconds.\n",
            "\n",
            "**But that's not all!** TCL also offers a more premium 55\" 4K UHD Smart TV for those who want even more. This model boasts:\n",
            "\n",
            "- **Exceptional color accuracy and contrast** for an even more immersive viewing experience.\n",
            "- **Hands-free Google Assistant:** Control your TV with just your voice.\n",
            "- **Gaming features:** Enjoy smooth gameplay with 120Hz refresh rate and VRR support.\n",
            "\n",
            "**Don't miss your chance to enjoy top-notch entertainment without overspending!** Check out the TCL 55\" Class 4-Series 4K UHD Smart Roku TV or the TCL 55\" 4K UHD Smart TV today and elevate your movie and gaming nights! 🍿🎮\n",
            "\n",
            "**Remember to like and subscribe for more awesome tech reviews and recommendations!** #TCL #TVReview #BudgetGaming #MovieNight #ContentCreator #TechTips\n",
            "\n"
          ]
        }
      ]
    }
  ]
}